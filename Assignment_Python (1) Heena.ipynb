{
  "nbformat": 4,
  "nbformat_minor": 0,
  "metadata": {
    "colab": {
      "provenance": []
    },
    "kernelspec": {
      "name": "python3",
      "display_name": "Python 3"
    },
    "language_info": {
      "name": "python"
    }
  },
  "cells": [
    {
      "cell_type": "markdown",
      "source": [
        "1) What are the types of Applications?\n",
        "\n",
        "A-->Applications can be broadly categorized into native,hybrid and web based apps, each serving different purpose and required unique development approaches.\n"
      ],
      "metadata": {
        "id": "AdL2J9CplqNN"
      }
    },
    {
      "cell_type": "markdown",
      "source": [
        "2)What is programing?\n",
        "A--> Programing is the process of creating set of instructions that tell a computer how to perfrom a task. Programing is the act of designing,writing,testing and mainting a source code of computer programs."
      ],
      "metadata": {
        "id": "hAGJ02XBkE3k"
      }
    },
    {
      "cell_type": "markdown",
      "source": [
        "3) What is Python?\n",
        "\n",
        "A---> Python is a popular programming language that used in web developing, data analysis and machine learning.\n",
        "\n"
      ],
      "metadata": {
        "id": "ZRw4lY9omaIT"
      }
    },
    {
      "cell_type": "code",
      "source": [
        "#4) Write a Python program to check if a number is positive, negative or zero\n",
        "# A--->\n",
        "\n",
        "x=int(input())\n",
        "\n",
        "if x>0:\n",
        "  print(\"positive\")\n",
        "elif x<0:\n",
        "  print(\"negative\")\n",
        "else:\n",
        "  print(\"zero\")"
      ],
      "metadata": {
        "colab": {
          "base_uri": "https://localhost:8080/"
        },
        "id": "2pOxj0F2nczG",
        "outputId": "b1b319aa-d184-4a07-dad3-74634da1f5aa"
      },
      "execution_count": null,
      "outputs": [
        {
          "output_type": "stream",
          "name": "stdout",
          "text": [
            "3\n",
            "positive\n"
          ]
        }
      ]
    },
    {
      "cell_type": "code",
      "source": [
        "#5) Write a Python program to get the Factorial number of given numbers\n",
        "#A--->\n",
        "\n",
        "a=5\n",
        "factorial=1\n",
        "\n",
        "for i in range(1,a+1):\n",
        "    factorial*=i\n",
        "    print(\"factorial of\",a,\"is\" ,factorial)\n"
      ],
      "metadata": {
        "id": "7IQDlfFLoZfF"
      },
      "execution_count": null,
      "outputs": []
    },
    {
      "cell_type": "code",
      "source": [
        "#6)Write a Python program to get the Fibonacci series of given range.\n",
        "#A--->\n",
        "\n",
        "n_series=int(input(\"enter number of series\"))\n",
        "\n",
        "a,b=0,1\n",
        "\n",
        "print(\"Fibonacci Series\")\n",
        "for i in range(n_series):\n",
        "    print(a,end=\" \")\n",
        "    a,b=b,a+b\n",
        "\n",
        "\n"
      ],
      "metadata": {
        "id": "iJYI7zSPo_2T",
        "colab": {
          "base_uri": "https://localhost:8080/"
        },
        "outputId": "acae9e68-e0fc-47f8-a9f6-9c477ac87ac1"
      },
      "execution_count": null,
      "outputs": [
        {
          "output_type": "stream",
          "name": "stdout",
          "text": [
            "enter number of series5\n",
            "Fibonacci Series\n",
            "0 1 1 2 3 "
          ]
        }
      ]
    },
    {
      "cell_type": "markdown",
      "source": [
        "#7)How memory is managed in Python?\n",
        "A---> Memory management in Python is handled by the Python memory manager, which is responsible for allocating and deallocating memory for objects during the execution of a Python program. Python uses a variety of techniques to optimize memory usage and manage objects effectively.\n"
      ],
      "metadata": {
        "id": "k6sIO45JRCuY"
      }
    },
    {
      "cell_type": "markdown",
      "source": [
        "8)What is the purpose continuing statement in python?\n",
        "A---> The continue statement is used to skip the remaining statements within the current iteration of a loop and move directly to the next iteration."
      ],
      "metadata": {
        "id": "khujg1QoRCFR"
      }
    },
    {
      "cell_type": "code",
      "source": [
        "#9) Write python program that swap two number with temp variable and without temp variable\n",
        "#A--->\n",
        "\n",
        "# Swap with temp variable\n",
        "a = int(input(\"Enter the first number: \"))\n",
        "b = int(input(\"Enter the second number: \"))\n",
        "\n",
        "# With temp variable\n",
        "temp = a\n",
        "a = b\n",
        "b = temp\n",
        "\n",
        "print(\"After swapping with temp variable:\")\n",
        "print(\"a =\", a, \"b =\", b)\n",
        "\n",
        "# Swap without temp variable\n",
        "a = int(input(\"Enter the first number again: \"))\n",
        "b = int(input(\"Enter the second number again: \"))\n",
        "\n",
        "# Without temp variable\n",
        "a = a + b\n",
        "b = a - b\n",
        "a = a - b\n",
        "\n",
        "print(\"After swapping without temp variable:\")\n",
        "print(\"a =\", a, \"b =\", b)\n",
        "\n",
        "\n",
        "\n",
        "\n"
      ],
      "metadata": {
        "id": "8--Qngl9qU7i",
        "colab": {
          "base_uri": "https://localhost:8080/"
        },
        "outputId": "7b309a15-4cfc-45b9-81c7-d4a14c12dd96"
      },
      "execution_count": null,
      "outputs": [
        {
          "output_type": "stream",
          "name": "stdout",
          "text": [
            "Enter the first number: 2\n",
            "Enter the second number: 3\n",
            "After swapping with temp variable:\n",
            "a = 3 b = 2\n",
            "Enter the first number again: 2\n",
            "Enter the second number again: 3\n",
            "After swapping without temp variable:\n",
            "a = 3 b = 2\n"
          ]
        }
      ]
    },
    {
      "cell_type": "code",
      "source": [
        "#10) Write a Python program to find whether a given number is even or odd, print out an appropriate message to the user\n",
        "#A--->\n",
        "\n",
        "x=int(input())\n",
        "\n",
        "if x%2==0:\n",
        "  print(\"even\")\n",
        "else:\n",
        "  print(\"odd\")\n"
      ],
      "metadata": {
        "id": "jDyOmibWqj10"
      },
      "execution_count": null,
      "outputs": []
    },
    {
      "cell_type": "code",
      "source": [
        "#11) Write a Python program to test whether a passed letter is a vowel or not\n",
        "#A--->\n",
        "\n",
        "vowels = [\"a\",\"e\",\"i\",\"o\",\"u\"]\n",
        "\n",
        "x=str(input())\n",
        "\n",
        "if x in vowels:\n",
        "  print(\"Vowels\")\n",
        "else:\n",
        "  print(\"not a vowels\")\n"
      ],
      "metadata": {
        "colab": {
          "base_uri": "https://localhost:8080/"
        },
        "id": "0X1R2NgvrFv-",
        "outputId": "af81ea77-7a27-4722-f9c1-d363e1d8fd48"
      },
      "execution_count": 18,
      "outputs": [
        {
          "output_type": "stream",
          "name": "stdout",
          "text": [
            "b\n",
            "not a vowels\n"
          ]
        }
      ]
    },
    {
      "cell_type": "code",
      "source": [
        "#12) Write a Python program to sum of three given integers. However, if two values are equal sum will be zero\n",
        "#A--->\n",
        "\n",
        "x=int(input())\n",
        "y=int(input())\n",
        "z=int(input())\n",
        "\n",
        "if x==y or y==z or z==x:\n",
        "  sum=0\n",
        "else:\n",
        "  sum=x+y+z\n",
        "print(sum)\n",
        "\n",
        "\n"
      ],
      "metadata": {
        "id": "rY1StMH2rrja",
        "colab": {
          "base_uri": "https://localhost:8080/"
        },
        "outputId": "9b0ee8dc-694a-49e5-9e15-c80aff10c426"
      },
      "execution_count": 16,
      "outputs": [
        {
          "output_type": "stream",
          "name": "stdout",
          "text": [
            "3\n",
            "4\n",
            "5\n",
            "12\n"
          ]
        }
      ]
    },
    {
      "cell_type": "code",
      "source": [
        "#13) Write a Python program that will return true if the two given integer values are equal or their sum or difference is 5\n",
        "#A--->\n",
        "\n",
        "a=int(input())\n",
        "b=int(input())\n",
        "\n",
        "if a==b or abs(a-b)==5 or (a+b)==5:\n",
        "  print(\"true\")\n",
        "else:\n",
        "  print(\"false\")"
      ],
      "metadata": {
        "id": "H2_18AdxsCQ2",
        "colab": {
          "base_uri": "https://localhost:8080/"
        },
        "outputId": "582c56af-50cf-4f46-dc9d-d1e236cacb2f"
      },
      "execution_count": 17,
      "outputs": [
        {
          "output_type": "stream",
          "name": "stdout",
          "text": [
            "2\n",
            "5\n",
            "false\n"
          ]
        }
      ]
    },
    {
      "cell_type": "code",
      "source": [
        "#14) Write a python program to sum of the first n positive integers\n",
        "#A--->\n",
        "\n",
        "n=int(input())\n",
        "sum=0\n",
        "\n",
        "for i in range(1,n+1):\n",
        "  sum+=i\n",
        "print(sum)\n",
        "\n",
        "\n",
        "\n"
      ],
      "metadata": {
        "id": "0PWg0qrDs0jw",
        "colab": {
          "base_uri": "https://localhost:8080/"
        },
        "outputId": "b362537c-baff-4425-a1ea-c71228e5797c"
      },
      "execution_count": null,
      "outputs": [
        {
          "output_type": "stream",
          "name": "stdout",
          "text": [
            "5\n",
            "15\n"
          ]
        }
      ]
    },
    {
      "cell_type": "code",
      "source": [
        "#15) Write a Python program to calculate the length of a string\n",
        "#A--->\n",
        "\n",
        "string=input(\"enter a string \")\n",
        "length=len(string)\n",
        "print(\"length of string is\",length)"
      ],
      "metadata": {
        "colab": {
          "base_uri": "https://localhost:8080/"
        },
        "id": "NTo3LstqtH_G",
        "outputId": "8538a057-e4b3-44a1-f923-97ba4db5a5ff"
      },
      "execution_count": null,
      "outputs": [
        {
          "output_type": "stream",
          "name": "stdout",
          "text": [
            "enter a stringapple\n",
            "length of string is 5\n"
          ]
        }
      ]
    },
    {
      "cell_type": "code",
      "source": [
        "#16) Write a Python program to count the number of characters (character frequency) in a string\n",
        "#A--->\n",
        "\n",
        "text = \"hello world\"\n",
        "frequency = {}\n",
        "\n",
        "for char in text:\n",
        "    frequency[char] = frequency.get(char, 0) + 1\n",
        "\n",
        "print(\"Character Frequency:\", frequency)\n"
      ],
      "metadata": {
        "colab": {
          "base_uri": "https://localhost:8080/"
        },
        "id": "HUwn77gYt8BT",
        "outputId": "dde269e7-2a8f-43ce-a7e1-b2cfb63a6cb6"
      },
      "execution_count": 19,
      "outputs": [
        {
          "output_type": "stream",
          "name": "stdout",
          "text": [
            "Character Frequency: {'h': 1, 'e': 1, 'l': 3, 'o': 2, ' ': 1, 'w': 1, 'r': 1, 'd': 1}\n"
          ]
        }
      ]
    },
    {
      "cell_type": "markdown",
      "source": [
        "#17)What are negative indexes and why are they used?\n",
        "#A---> Negative indexes allows to access an elements of a sequence from the end, using negative numbers as indexes.This can be particularly useful when it want to refer to the last elements without manually calculating their positions."
      ],
      "metadata": {
        "id": "-ZO3KcWkwgaS"
      }
    },
    {
      "cell_type": "code",
      "source": [
        "#18)Write a Python program to count occurrences of a substring in a string\n",
        "#A--->\n",
        "\n",
        "string=input(\"enter a string\")\n",
        "substring=input(\"enter a substring\")\n",
        "\n",
        "count=string.count(substring)\n",
        "print(count)"
      ],
      "metadata": {
        "id": "ihp3IVdrwj85"
      },
      "execution_count": null,
      "outputs": []
    },
    {
      "cell_type": "code",
      "source": [
        "#19) Write a Python program to count the occurrences of each word in a given sentence\n",
        "#A--->\n",
        "\n",
        "from collections import Counter\n",
        "\n",
        "sentence=input(\"enter a sentence\")\n",
        "words=sentence.split()\n",
        "\n",
        "word_count=Counter(words)\n",
        "print(\"word count\", word_count)\n",
        "\n",
        "\n",
        "\n",
        "\n",
        "\n"
      ],
      "metadata": {
        "id": "DnjLs9F5yAX1",
        "colab": {
          "base_uri": "https://localhost:8080/"
        },
        "outputId": "2c9c0c5f-2f50-4b26-a9c7-e25aae071bbf"
      },
      "execution_count": null,
      "outputs": [
        {
          "output_type": "stream",
          "name": "stdout",
          "text": [
            "enter a sentencehello world\n",
            "word count Counter({'hello': 1, 'world': 1})\n"
          ]
        }
      ]
    },
    {
      "cell_type": "code",
      "source": [
        "#20) Write a Python program to get a single string from two given strings,separated by a space and swap the first two characters of each string.\n",
        "#A--->\n",
        "\n",
        "string1=input(\"enter a first string\")\n",
        "string2=input(\"enter a second string\")\n",
        "\n",
        "string3=string2[:2]+string1[2:]+\" \"+string1[:2]+string2[2:]\n",
        "\n",
        "print(\"string3\", string3)\n",
        "\n",
        "\n"
      ],
      "metadata": {
        "id": "5cV3bZIlSLZi",
        "colab": {
          "base_uri": "https://localhost:8080/"
        },
        "outputId": "c7fd8d16-873b-402e-e897-a3a177f22cd9"
      },
      "execution_count": null,
      "outputs": [
        {
          "output_type": "stream",
          "name": "stdout",
          "text": [
            "enter a first stringhello\n",
            "enter a second stringworld\n",
            "string3 wollo herld\n"
          ]
        }
      ]
    },
    {
      "cell_type": "code",
      "source": [
        "#21) Write a Python program to add 'in' at the end of a given string (length should be at least 3). If the given string already ends with 'ing' then add 'ly' instead if the string length of the given string is less than 3,leave it unchanged.\n",
        "#A--->\n",
        "\n",
        "word=input(\"enter a word\")\n",
        "\n",
        "if len(word)<3:\n",
        "  print(word)\n",
        "elif word.endswith(\"ing\"):\n",
        "  print(word+\"ly\")\n",
        "else:\n",
        "  print(word+\"ing\")\n",
        "\n",
        "\n",
        "\n",
        "\n"
      ],
      "metadata": {
        "colab": {
          "base_uri": "https://localhost:8080/"
        },
        "collapsed": true,
        "id": "p4SzjvufUa5K",
        "outputId": "54532287-791a-484c-8990-9c516509a9ab"
      },
      "execution_count": null,
      "outputs": [
        {
          "output_type": "stream",
          "name": "stdout",
          "text": [
            "enter a wordhing\n",
            "hingly\n"
          ]
        }
      ]
    },
    {
      "cell_type": "code",
      "source": [
        "#22) Write a Python function to reverses a string if its length is a multiple of 4\n",
        "#A--->\n",
        "\n",
        "string=input(\"enter a string\")\n",
        "\n",
        "if len(string)%4==0:\n",
        "  print(string[::-1])\n",
        "else:\n",
        "  print(\"string is not multiple of 4, so unchanged\", string)"
      ],
      "metadata": {
        "colab": {
          "base_uri": "https://localhost:8080/"
        },
        "collapsed": true,
        "id": "xJirU3jVV21r",
        "outputId": "865f7ef2-3546-483c-fe58-bec44ffbba81"
      },
      "execution_count": null,
      "outputs": [
        {
          "output_type": "stream",
          "name": "stdout",
          "text": [
            "enter a stringhina\n",
            "anih\n"
          ]
        }
      ]
    },
    {
      "cell_type": "code",
      "source": [
        "#23) Write a Python program to get a string made of the first 2 and the last 2 chars from a given a string. If the string length is less than 2, return instead of the empty string\n",
        "#A--->\n",
        "\n",
        "string=input(\"enter a string \")\n",
        "\n",
        "if len(string)<2:\n",
        "  print(\"empty string\")\n",
        "else:\n",
        "  print(string[2]+string[-2])\n",
        "\n"
      ],
      "metadata": {
        "colab": {
          "base_uri": "https://localhost:8080/"
        },
        "id": "_2uCRA0bXyt5",
        "outputId": "223447e5-cd62-4dae-c1ad-ddb098e43861"
      },
      "execution_count": null,
      "outputs": [
        {
          "output_type": "stream",
          "name": "stdout",
          "text": [
            "enter a string vis\n",
            "si\n"
          ]
        }
      ]
    },
    {
      "cell_type": "code",
      "source": [
        "#24)Write a Python function to insert a string in the middle of a string.\n",
        "#A--->\n",
        "\n",
        "string1=input(\"enter a string \")\n",
        "string2=input(\"enter a string \")\n",
        "\n",
        "middle_string=len(string1)//2\n",
        "new_string=string1[:middle_string]+string2+string1[middle_string:]\n",
        "print(new_string)\n",
        "\n",
        "\n",
        "\n"
      ],
      "metadata": {
        "colab": {
          "base_uri": "https://localhost:8080/"
        },
        "id": "AKf-JyVZY6wb",
        "outputId": "b88a561b-c6ba-45e9-9e39-a24a79a4f54a"
      },
      "execution_count": null,
      "outputs": [
        {
          "output_type": "stream",
          "name": "stdout",
          "text": [
            "enter a string hina\n",
            "enter a string vish\n",
            "hivishna\n"
          ]
        }
      ]
    },
    {
      "cell_type": "markdown",
      "source": [
        "25)What is List? How will you reverse a list?\n",
        "A--> A list is a modify collection of ordered elements. It contains a variety of data types like integers,strings or even in list. list are defined as a square bracate [ ].\n",
        "\n",
        "my_list=[1,2,3,4,5,6]\n",
        "my_list.reverse()\n",
        "print(my_list)\n",
        "\n",
        "\n"
      ],
      "metadata": {
        "id": "79HpCT11anDE"
      }
    },
    {
      "cell_type": "code",
      "source": [
        "#25)How will you reverse a list?\n",
        "\n",
        "my_list=[1,2,3,4,5,6]\n",
        "my_list.reverse()\n",
        "print(my_list)"
      ],
      "metadata": {
        "colab": {
          "base_uri": "https://localhost:8080/"
        },
        "id": "04oJ2PwWburT",
        "outputId": "25051a46-3034-41ea-cdb4-b6be5d235078"
      },
      "execution_count": null,
      "outputs": [
        {
          "output_type": "stream",
          "name": "stdout",
          "text": [
            "[6, 5, 4, 3, 2, 1]\n"
          ]
        }
      ]
    },
    {
      "cell_type": "code",
      "source": [
        "#26)How will you remove last object from a list?\n",
        "\n",
        "my_list=[\"hina\",\"riya\",\"megha\",\"anny\"]\n",
        "my_list.pop()\n",
        "print(my_list)\n",
        "\n"
      ],
      "metadata": {
        "colab": {
          "base_uri": "https://localhost:8080/"
        },
        "id": "uo_xkg7Jb6pS",
        "outputId": "8cfc7ee7-8bbb-43cf-affd-cfb6b9baccef"
      },
      "execution_count": null,
      "outputs": [
        {
          "output_type": "stream",
          "name": "stdout",
          "text": [
            "['hina', 'riya', 'megha']\n"
          ]
        }
      ]
    },
    {
      "cell_type": "code",
      "source": [
        "#27)Suppose list1 is [2, 33, 222, 14, and 25], what is list1 [-1]?\n",
        "#A--->\n",
        "\n",
        "list1=[2, 33, 222, 14, 25]\n",
        "print(list1[-1])\n"
      ],
      "metadata": {
        "colab": {
          "base_uri": "https://localhost:8080/"
        },
        "id": "GhAbb_QpcwpW",
        "outputId": "b63da444-ed86-42b9-9ce0-81cffce45207"
      },
      "execution_count": null,
      "outputs": [
        {
          "output_type": "stream",
          "name": "stdout",
          "text": [
            "25\n"
          ]
        }
      ]
    },
    {
      "cell_type": "markdown",
      "source": [
        "28)Differentiate between append () and extend () methods?\n",
        "\n",
        "A--> The append method it adds an single element to the end of the list, while extend method it adds an each element iterable(like list,tuple or string) to the end of the list."
      ],
      "metadata": {
        "id": "DADIPlKHdKo7"
      }
    },
    {
      "cell_type": "code",
      "source": [
        "#29) Write a Python function to get the largest number, smallest num and sum of all from a list.\n",
        "#A--->\n",
        "\n",
        "def list(numbers):\n",
        "  if len(numbers)==0:\n",
        "    print(\"the list is empty\")\n",
        "  else:\n",
        "    largest=max(numbers)\n",
        "    smallest=min(numbers)\n",
        "    total_sum=sum(numbers)\n",
        "    print(f\"Largest: {largest}, Smallest: {smallest}, Sum: {total_sum}\")\n",
        "\n",
        "num_list=[10,20,30,40,80]\n",
        "list(num_list)\n"
      ],
      "metadata": {
        "colab": {
          "base_uri": "https://localhost:8080/"
        },
        "id": "u6NNxHnbd-S_",
        "outputId": "88801ec7-4b5e-4c9e-f88f-f57a7d1acca0"
      },
      "execution_count": null,
      "outputs": [
        {
          "output_type": "stream",
          "name": "stdout",
          "text": [
            "Largest: 80, Smallest: 10, Sum: 180\n"
          ]
        }
      ]
    },
    {
      "cell_type": "code",
      "source": [
        "#30)How will you compare two lists?\n",
        "#A--->\n",
        "\n",
        "list1=[1,2,3,4]\n",
        "list2=[1,2,4,5]\n",
        "\n",
        "if list1==list2:\n",
        "  print(\"list have same element\")\n",
        "else:\n",
        "  print(\"list are different\")\n",
        "\n",
        "\n",
        "\n"
      ],
      "metadata": {
        "id": "mOJ266LagaX7",
        "colab": {
          "base_uri": "https://localhost:8080/"
        },
        "outputId": "31428db2-08f0-48ac-fb8f-af5a32d1b96c"
      },
      "execution_count": null,
      "outputs": [
        {
          "output_type": "stream",
          "name": "stdout",
          "text": [
            "list are different\n"
          ]
        }
      ]
    },
    {
      "cell_type": "code",
      "source": [
        "#31) Write a Python program to count the number of strings where the string length is 2 or more and the first and last character are same from a given list of strings\n",
        "#A-->\n",
        "\n",
        "def count_matching_strings(words):\n",
        "    count = 0\n",
        "    for word in words:\n",
        "        if len(word) >= 2 and word[0] == word[-1]:\n",
        "            count += 1\n",
        "    return count\n",
        "\n",
        "# Example list of strings\n",
        "word_list = ['abc', 'xyz', 'aba', '1221', 'aa', 'hello', 'wow']\n",
        "\n",
        "result = count_matching_strings(word_list)\n",
        "\n",
        "print(\"Number of matching strings:\", result)"
      ],
      "metadata": {
        "id": "HLs-W9y8jIKB",
        "colab": {
          "base_uri": "https://localhost:8080/"
        },
        "outputId": "96ecea0c-2011-4e4c-c8ba-ee48b4efedec"
      },
      "execution_count": 20,
      "outputs": [
        {
          "output_type": "stream",
          "name": "stdout",
          "text": [
            "Number of matching strings: 4\n"
          ]
        }
      ]
    },
    {
      "cell_type": "code",
      "source": [
        "#32)Write a Python program to remove duplicates from a list\n",
        "#A--->\n",
        "\n",
        "num=[1,2,3,4,4,4,5,6,7,8,8,8,9,1,10]\n",
        "duplicate=[]\n",
        "\n",
        "for i in num:\n",
        "  if i not in duplicate:\n",
        "    duplicate.append(i)\n",
        "print(duplicate)\n"
      ],
      "metadata": {
        "colab": {
          "base_uri": "https://localhost:8080/"
        },
        "id": "lxEUqLwajkP0",
        "outputId": "fe650c5f-fcb2-42aa-efe5-05dc07b989ad"
      },
      "execution_count": null,
      "outputs": [
        {
          "output_type": "stream",
          "name": "stdout",
          "text": [
            "[1, 2, 3, 4, 5, 6, 7, 8, 9, 10]\n"
          ]
        }
      ]
    },
    {
      "cell_type": "code",
      "source": [
        "#33)Write a Python program to check a list is empty or not.\n",
        "#A--->\n",
        "\n",
        "list=[]\n",
        "\n",
        "if len(list)==0:\n",
        "  print(\"list is empty\")\n",
        "else:\n",
        "  print(\"list is not empty\")"
      ],
      "metadata": {
        "colab": {
          "base_uri": "https://localhost:8080/"
        },
        "id": "l46tTO29ko2E",
        "outputId": "3f68702c-ff0e-45d7-bdd4-778f3838b472"
      },
      "execution_count": null,
      "outputs": [
        {
          "output_type": "stream",
          "name": "stdout",
          "text": [
            "list is empty\n"
          ]
        }
      ]
    },
    {
      "cell_type": "code",
      "source": [
        "#34) Write a Python function that takes two lists and returns true if they have at least one common member\n",
        "#A--->\n",
        "\n",
        "list1=[1,2,3,4]\n",
        "list2=[1,5,6,2]\n",
        "\n",
        "def common_member(list1,list2):\n",
        "  for i in list1:\n",
        "    if i in list2:\n",
        "      print(\"true\")\n",
        "    else:\n",
        "      print(\"false\")\n",
        "common_member(list1,list2)\n",
        "\n"
      ],
      "metadata": {
        "colab": {
          "base_uri": "https://localhost:8080/"
        },
        "id": "rdPM7jDMlJlY",
        "outputId": "da4d0af2-b522-4205-a37f-62c3ed0b2f75"
      },
      "execution_count": null,
      "outputs": [
        {
          "output_type": "stream",
          "name": "stdout",
          "text": [
            "true\n",
            "true\n",
            "false\n",
            "false\n"
          ]
        }
      ]
    },
    {
      "cell_type": "code",
      "source": [
        "#35) Write a Python program to generate and print a list of first and last 5 elements where the values are square of numbers between 1 and 30\n",
        "#A--->\\\n",
        "\n",
        "squares=[]\n",
        "for i in range(1,31):\n",
        "  squares.append(i**2)\n",
        "\n",
        "first_five=squares[:5]\n",
        "last_five=squares[-5:]\n",
        "print(\"first five elements\", first_five)\n",
        "print(\"last five elements\", last_five)\n"
      ],
      "metadata": {
        "id": "GgU8u0YRnVzx",
        "colab": {
          "base_uri": "https://localhost:8080/"
        },
        "outputId": "3d0c9cba-c894-4ea7-d8a9-2b6def970be1"
      },
      "execution_count": null,
      "outputs": [
        {
          "output_type": "stream",
          "name": "stdout",
          "text": [
            "first five elements [1, 4, 9, 16, 25]\n",
            "last five elements [676, 729, 784, 841, 900]\n"
          ]
        }
      ]
    },
    {
      "cell_type": "code",
      "source": [
        "#36) Write a Python function that takes a list and returns a new list with unique elements of the first list\n",
        "#A--->\n",
        "\n",
        "list1=[1,2,3,4,8,9,3,2]\n",
        "list2=[1,2,5,6,7,8]\n",
        "\n",
        "def unique_elements(list1,list2):\n",
        "  for i in list1:\n",
        "    if i not in list2:\n",
        "      list2.append(i)\n",
        "    return list2\n",
        "unique_elements(list1,list2)\n",
        "\n"
      ],
      "metadata": {
        "colab": {
          "base_uri": "https://localhost:8080/"
        },
        "id": "9s_W9yDjra3D",
        "outputId": "53e1920d-442d-448e-f9ef-266d97dfa258"
      },
      "execution_count": null,
      "outputs": [
        {
          "output_type": "execute_result",
          "data": {
            "text/plain": [
              "[1, 2, 5, 6, 7, 8]"
            ]
          },
          "metadata": {},
          "execution_count": 25
        }
      ]
    },
    {
      "cell_type": "code",
      "source": [
        "#37)Write a Python program to convert a list of characters into a string.\n",
        "#A--->\n",
        "\n",
        "list=[\"h\",\"i\",\"n\",\"a\"]\n",
        "\n",
        "string=\" \".join(list)\n",
        "print(\"convert string \", string)\n",
        "\n"
      ],
      "metadata": {
        "id": "0gv2cVPHuVDq",
        "colab": {
          "base_uri": "https://localhost:8080/"
        },
        "outputId": "143a3de4-715e-4e1a-c05c-bd460da0374d"
      },
      "execution_count": null,
      "outputs": [
        {
          "output_type": "stream",
          "name": "stdout",
          "text": [
            "convert string  h i n a\n"
          ]
        }
      ]
    },
    {
      "cell_type": "code",
      "source": [
        "#38)Write a Python program to select an item randomly from a list.\n",
        "#A--->\n",
        "\n",
        "import random\n",
        "\n",
        "items=[\"apple\",\"banana\",\"cherry\",\"pineapple\",\"mango\"]\n",
        "\n",
        "random_item=random.choice(items)\n",
        "print(\"random item\", random_item)\n",
        "\n",
        "\n",
        "\n",
        "\n"
      ],
      "metadata": {
        "colab": {
          "base_uri": "https://localhost:8080/"
        },
        "id": "_ShnZXfYoNJB",
        "outputId": "23050f8c-d605-4909-b6d8-cf79a23e4f1d"
      },
      "execution_count": 3,
      "outputs": [
        {
          "output_type": "stream",
          "name": "stdout",
          "text": [
            "random item mango\n"
          ]
        }
      ]
    },
    {
      "cell_type": "code",
      "source": [
        "#39)Write a Python program to find the second smallest number in a list.\n",
        "#A--->\n",
        "\n",
        "numbers=[11,10,13,14,9,15]\n",
        "num=sorted(numbers)\n",
        "print(\"second smallest number\", num[1])"
      ],
      "metadata": {
        "colab": {
          "base_uri": "https://localhost:8080/"
        },
        "id": "UrUppowjqR52",
        "outputId": "8d891377-3c13-44ab-ab55-644f3755a933"
      },
      "execution_count": null,
      "outputs": [
        {
          "output_type": "stream",
          "name": "stdout",
          "text": [
            "second smallest number 10\n"
          ]
        }
      ]
    },
    {
      "cell_type": "code",
      "source": [
        "del list"
      ],
      "metadata": {
        "id": "GYU3bHDmAzD2"
      },
      "execution_count": 13,
      "outputs": []
    },
    {
      "cell_type": "code",
      "source": [
        "#40)Write a Python program to get unique values from a list\n",
        "#A--->\n",
        "\n",
        "def get_unique_values(input_list):\n",
        "  unique_values = list(set(input_list))\n",
        "  return unique_values  # Works if list is not overwritten\n",
        "\n",
        "my_list = [1, 2, 2, 3, 4, 4, 5, 1, 6]\n",
        "unique_list = get_unique_values(my_list)\n",
        "\n",
        "print(\"Original List:\", my_list)\n",
        "print(\"Unique Values:\", unique_list)\n"
      ],
      "metadata": {
        "colab": {
          "base_uri": "https://localhost:8080/"
        },
        "id": "MiIN3Z9qsihy",
        "outputId": "8bbcfa8c-fb45-4128-94dc-92d16f133aab"
      },
      "execution_count": 14,
      "outputs": [
        {
          "output_type": "stream",
          "name": "stdout",
          "text": [
            "Original List: [1, 2, 2, 3, 4, 4, 5, 1, 6]\n",
            "Unique Values: [1, 2, 3, 4, 5, 6]\n"
          ]
        }
      ]
    },
    {
      "cell_type": "code",
      "source": [
        "#41)Write a Python program to check whether a list contains a sub list\n",
        "#A--->\n",
        "\n",
        "list=[1,2,3,4,5,6]\n",
        "sub_list=[3,4]\n",
        "\n",
        "if set(sub_list).issubset(set(list)):\n",
        "  print(\"list contains sub list\")\n",
        "else:\n",
        "  print(\"list does not contains sub list\")"
      ],
      "metadata": {
        "colab": {
          "base_uri": "https://localhost:8080/"
        },
        "id": "UWrVj3ysubHT",
        "outputId": "f98bce93-0306-4d55-d01c-01a8add8889f"
      },
      "execution_count": null,
      "outputs": [
        {
          "output_type": "stream",
          "name": "stdout",
          "text": [
            "list contains sub list\n"
          ]
        }
      ]
    },
    {
      "cell_type": "code",
      "source": [
        "#42)Write a Python program to split a list into different variables.\n",
        "#A--->\n",
        "\n",
        "list=[1,2,3,4,5]\n",
        "a,b,c,d,e=list\n",
        "\n",
        "print(\"a=\",a)\n",
        "print(\"b=\",b)\n",
        "print(\"c=\",c)\n",
        "print(\"d=\",d)\n",
        "print(\"e=\",e)"
      ],
      "metadata": {
        "colab": {
          "base_uri": "https://localhost:8080/"
        },
        "id": "o4zavpp1wPjA",
        "outputId": "8ce0e67d-fd90-4f22-a28b-ec4fc553bf2b"
      },
      "execution_count": null,
      "outputs": [
        {
          "output_type": "stream",
          "name": "stdout",
          "text": [
            "a= 1\n",
            "b= 2\n",
            "c= 3\n",
            "d= 4\n",
            "e= 5\n"
          ]
        }
      ]
    },
    {
      "cell_type": "markdown",
      "source": [
        "43)What is tuple? Difference between list and tuple.\n",
        "A---> Tuple is an immutable collection of various data type elements.it defined as parentheses( ), once it created it cannot be changes or removed or added.Difference between list and tuple is in list it is defined using brackets[ ] and its mutable it can be modify a elements. List have an methods like append(),remove() and extend()."
      ],
      "metadata": {
        "id": "KS4Fydn_xd7A"
      }
    },
    {
      "cell_type": "code",
      "source": [
        "#44)Write a Python program to create a tuple with different data types\n",
        "#A--->\n",
        "\n",
        "my_tuple=(1,\"hello\",3.14,True,None)\n",
        "\n",
        "for element in my_tuple:\n",
        "  print(f\"value: {element}, Data type: {type(element)}\")\n",
        "\n",
        "\n",
        "\n",
        "\n"
      ],
      "metadata": {
        "colab": {
          "base_uri": "https://localhost:8080/"
        },
        "id": "2QhGdnmeyueF",
        "outputId": "b456baa5-2e2b-43e0-8759-bd587248f4e0"
      },
      "execution_count": null,
      "outputs": [
        {
          "output_type": "stream",
          "name": "stdout",
          "text": [
            "value: 1, Data type: <class 'int'>\n",
            "value: hello, Data type: <class 'str'>\n",
            "value: 3.14, Data type: <class 'float'>\n",
            "value: True, Data type: <class 'bool'>\n",
            "value: None, Data type: <class 'NoneType'>\n"
          ]
        }
      ]
    },
    {
      "cell_type": "code",
      "source": [
        "del list  # This deletes the custom 'list' variable and restores the built-in one"
      ],
      "metadata": {
        "id": "l3zGZpzj1Lu8"
      },
      "execution_count": null,
      "outputs": []
    },
    {
      "cell_type": "code",
      "source": [
        "#45)Write a Python program to unzip a list of tuples into individual lists.\n",
        "#A--->\n",
        "\n",
        "list_of_tuples=[(1,2),(3,4),(5,6)]\n",
        "\n",
        "unzipped=list(zip(*list_of_tuples))\n",
        "print(unzipped)"
      ],
      "metadata": {
        "colab": {
          "base_uri": "https://localhost:8080/"
        },
        "id": "B5Ms37cm2IBt",
        "outputId": "8caa3c0e-d6f3-487a-ce78-3a3f36dfbbaf"
      },
      "execution_count": 15,
      "outputs": [
        {
          "output_type": "stream",
          "name": "stdout",
          "text": [
            "[(1, 3, 5), (2, 4, 6)]\n"
          ]
        }
      ]
    },
    {
      "cell_type": "code",
      "source": [
        "#46)Write a Python program to convert a list of tuples into a dictionary.\n",
        "#A--->\n",
        "\n",
        "my_tuples=[(\"a\",1),(\"b\",2),(\"c\",3)]\n",
        "my_dict=dict(my_tuples)\n",
        "print(my_dict)\n"
      ],
      "metadata": {
        "colab": {
          "base_uri": "https://localhost:8080/"
        },
        "id": "Irk9eOIU2N7-",
        "outputId": "48f0fc69-a7f4-4d0a-c26f-b90409bee451"
      },
      "execution_count": null,
      "outputs": [
        {
          "output_type": "stream",
          "name": "stdout",
          "text": [
            "{'a': 1, 'b': 2, 'c': 3}\n"
          ]
        }
      ]
    },
    {
      "cell_type": "code",
      "source": [
        "#47)How will you create a dictionary using tuples in python?\n",
        "#A--->\n",
        "\n",
        "tuples=[(\"apple\",1),(\"banana\",3),(\"mango\",2)]\n",
        "\n",
        "my_dict=dict(tuples)\n",
        "\n",
        "print(my_dict)\n",
        "\n"
      ],
      "metadata": {
        "id": "7qSd1Bur29GD",
        "colab": {
          "base_uri": "https://localhost:8080/"
        },
        "outputId": "3c904956-d60f-4fb0-e82b-dde486aa8027"
      },
      "execution_count": null,
      "outputs": [
        {
          "output_type": "stream",
          "name": "stdout",
          "text": [
            "{'apple': 1, 'banana': 3, 'mango': 2}\n"
          ]
        }
      ]
    },
    {
      "cell_type": "code",
      "source": [
        "#48)Write a Python script to sort (ascending and descending) a dictionary by value\n",
        "#A--->\n",
        "\n",
        "my_dict={\"apple\":4,\"banana\":10,\"cherry\":6,\"chiku\":15}\n",
        "asc_sorted=dict(sorted(my_dict.items(),key=lambda item:item[1]))\n",
        "dsc_sorted=dict(sorted(my_dict.items(), key=lambda item: item[1], reverse=True))\n",
        "\n",
        "print(\"sort in ascending order\", asc_sorted)\n",
        "print(\"sort in descending order\", dsc_sorted)\n",
        "\n",
        "\n"
      ],
      "metadata": {
        "id": "S7rQdpoB3V78",
        "colab": {
          "base_uri": "https://localhost:8080/"
        },
        "outputId": "5e7ce6b8-db75-4e4a-bd7f-2345934ef696"
      },
      "execution_count": null,
      "outputs": [
        {
          "output_type": "stream",
          "name": "stdout",
          "text": [
            "sort in ascending order {'apple': 4, 'cherry': 6, 'banana': 10, 'chiku': 15}\n",
            "sort in descending order {'chiku': 15, 'banana': 10, 'cherry': 6, 'apple': 4}\n"
          ]
        }
      ]
    },
    {
      "cell_type": "code",
      "source": [
        "#49)Write a Python script to concatenate following dictionaries to create a new one.\n",
        "#A-->\n",
        "\n",
        "dict1={\"a\":3,\"b\":10}\n",
        "dict2={\"c\":9,\"d\":7}\n",
        "dict3={\"e\":8,\"f\":4}\n",
        "\n",
        "new_dict={**dict1,**dict2,**dict3}\n",
        "print(new_dict)"
      ],
      "metadata": {
        "colab": {
          "base_uri": "https://localhost:8080/"
        },
        "id": "1IANv-DX43hf",
        "outputId": "d0d95d47-5b56-4c10-9892-729a8f4ee686"
      },
      "execution_count": null,
      "outputs": [
        {
          "output_type": "stream",
          "name": "stdout",
          "text": [
            "{'a': 3, 'b': 10, 'c': 9, 'd': 7, 'e': 8, 'f': 4}\n"
          ]
        }
      ]
    },
    {
      "cell_type": "code",
      "source": [
        "#50)Write a Python script to check if a given key already exists in a dictionary.\n",
        "#A-->\n",
        "\n",
        "my_dict={\"name\":\"hina\",\"age\":24,\"city\":\"ahmedabad\"}\n",
        "\n",
        "if \"name\" in my_dict:\n",
        "  print(\"key name is present\")\n",
        "else:\n",
        "  print(\"key name is not present\")\n",
        "\n"
      ],
      "metadata": {
        "id": "KDOBFd-M5t4U",
        "colab": {
          "base_uri": "https://localhost:8080/"
        },
        "outputId": "65ef6951-0dc1-4e60-81fa-9fcf3a018293"
      },
      "execution_count": null,
      "outputs": [
        {
          "output_type": "stream",
          "name": "stdout",
          "text": [
            "key name is present\n"
          ]
        }
      ]
    },
    {
      "cell_type": "code",
      "source": [
        "#51)How Do You Traverse Through a Dictionary Object in Python?\n",
        "#A--->\n",
        "\n",
        "my_dict = {'a': 1, 'b': 2, 'c': 3}\n",
        "\n",
        "for key in my_dict:\n",
        "    print(\"Key:\", key, \"Value:\", my_dict[key])\n",
        "\n",
        "\n",
        "\n"
      ],
      "metadata": {
        "id": "EBImHrgcpzRB",
        "colab": {
          "base_uri": "https://localhost:8080/"
        },
        "outputId": "6bb6ba0a-1f71-4726-fccf-85aab79f123f"
      },
      "execution_count": 21,
      "outputs": [
        {
          "output_type": "stream",
          "name": "stdout",
          "text": [
            "Key: a Value: 1\n",
            "Key: b Value: 2\n",
            "Key: c Value: 3\n"
          ]
        }
      ]
    },
    {
      "cell_type": "code",
      "source": [
        "#52)How Do You Check the Presence of a Key in A Dictionary?\n",
        "\n",
        "my_dict={\"name\":\"Hina\",\"age\":24,\"City\":\"Ahmedabad\"}\n",
        "\n",
        "if \"age\" in my_dict:\n",
        "  print(\"key age is present\")\n",
        "else:\n",
        "  print(\"key is not present\")\n",
        "\n"
      ],
      "metadata": {
        "id": "NjEH68ztp4nv",
        "colab": {
          "base_uri": "https://localhost:8080/"
        },
        "outputId": "1d795ceb-9728-49e0-e9c5-22fec9c53796"
      },
      "execution_count": null,
      "outputs": [
        {
          "output_type": "stream",
          "name": "stdout",
          "text": [
            "key age is present\n"
          ]
        }
      ]
    },
    {
      "cell_type": "code",
      "source": [
        "#53)Write a Python script to print a dictionary where the keys are numbers between 1 and 15.\n",
        "\n",
        "## Create dictionary with keys from 1 to 15 and values as squares of keys\n",
        "\n",
        "my_dict={}\n",
        "\n",
        "for i in range(1,16):\n",
        "  my_dict[i]=i**2\n",
        "  #print dictonary\n",
        "  print(my_dict)"
      ],
      "metadata": {
        "id": "1CfAnGRwp7UW",
        "colab": {
          "base_uri": "https://localhost:8080/"
        },
        "outputId": "fba52c71-3b0f-49df-f1f7-a7b341082c15"
      },
      "execution_count": null,
      "outputs": [
        {
          "output_type": "stream",
          "name": "stdout",
          "text": [
            "{1: 1}\n",
            "{1: 1, 2: 4}\n",
            "{1: 1, 2: 4, 3: 9}\n",
            "{1: 1, 2: 4, 3: 9, 4: 16}\n",
            "{1: 1, 2: 4, 3: 9, 4: 16, 5: 25}\n",
            "{1: 1, 2: 4, 3: 9, 4: 16, 5: 25, 6: 36}\n",
            "{1: 1, 2: 4, 3: 9, 4: 16, 5: 25, 6: 36, 7: 49}\n",
            "{1: 1, 2: 4, 3: 9, 4: 16, 5: 25, 6: 36, 7: 49, 8: 64}\n",
            "{1: 1, 2: 4, 3: 9, 4: 16, 5: 25, 6: 36, 7: 49, 8: 64, 9: 81}\n",
            "{1: 1, 2: 4, 3: 9, 4: 16, 5: 25, 6: 36, 7: 49, 8: 64, 9: 81, 10: 100}\n",
            "{1: 1, 2: 4, 3: 9, 4: 16, 5: 25, 6: 36, 7: 49, 8: 64, 9: 81, 10: 100, 11: 121}\n",
            "{1: 1, 2: 4, 3: 9, 4: 16, 5: 25, 6: 36, 7: 49, 8: 64, 9: 81, 10: 100, 11: 121, 12: 144}\n",
            "{1: 1, 2: 4, 3: 9, 4: 16, 5: 25, 6: 36, 7: 49, 8: 64, 9: 81, 10: 100, 11: 121, 12: 144, 13: 169}\n",
            "{1: 1, 2: 4, 3: 9, 4: 16, 5: 25, 6: 36, 7: 49, 8: 64, 9: 81, 10: 100, 11: 121, 12: 144, 13: 169, 14: 196}\n",
            "{1: 1, 2: 4, 3: 9, 4: 16, 5: 25, 6: 36, 7: 49, 8: 64, 9: 81, 10: 100, 11: 121, 12: 144, 13: 169, 14: 196, 15: 225}\n"
          ]
        }
      ]
    },
    {
      "cell_type": "code",
      "source": [
        "#54)Write a Python program to check multiple keys exists in a dictionary\n",
        "\n",
        "\n",
        "my_dict={\"name\":\"Hina\",\"age\":24,\"City\":\"Ahmedabad\"}\n",
        "keys=[\"name\",\"age\",\"country\"]\n",
        "\n",
        "for key in keys:\n",
        "  if key in my_dict:\n",
        "    print(f\"'{key}'is present\")\n",
        "  else:\n",
        "    print(f\"'{key}'is missing\")\n"
      ],
      "metadata": {
        "id": "qrc28s7lp-sV",
        "colab": {
          "base_uri": "https://localhost:8080/"
        },
        "outputId": "3b3210da-4353-4991-d933-569f98b3ec68"
      },
      "execution_count": null,
      "outputs": [
        {
          "output_type": "stream",
          "name": "stdout",
          "text": [
            "'name'is present\n",
            "'age'is present\n",
            "'country'is missing\n"
          ]
        }
      ]
    },
    {
      "cell_type": "code",
      "source": [
        "#55)Write a Python script to merge two Python dictionaries\n",
        "\n",
        "dict1={\"a\":1,\"b\":2}\n",
        "dict2={\"c\":3,\"d\":4}\n",
        "\n",
        "dict1.update(dict2)\n",
        "print(dict1)\n",
        "\n",
        "\n"
      ],
      "metadata": {
        "id": "ZPrjWfAcqB2e",
        "colab": {
          "base_uri": "https://localhost:8080/"
        },
        "outputId": "ce978a1e-dfba-4ada-e767-4e35aa32cbc0"
      },
      "execution_count": null,
      "outputs": [
        {
          "output_type": "stream",
          "name": "stdout",
          "text": [
            "{'a': 1, 'b': 2, 'c': 3, 'd': 4}\n"
          ]
        }
      ]
    },
    {
      "cell_type": "code",
      "source": [
        "#56)Write a Python program to map two lists into a dictionary\n",
        "#Sample output: Counter ({'a': 400, 'b': 400,’d’: 400, 'c': 300}).\n",
        "\n",
        "key=[\"a\",\"b\",\"c\"]\n",
        "value=[400,400,400,300]\n",
        "\n",
        "my_dict=dict(zip(key,value))\n",
        "\n",
        "print(\"Counter \", my_dict)\n",
        "\n",
        "\n",
        "\n",
        "\n"
      ],
      "metadata": {
        "id": "VAU3s-z9qEjg",
        "colab": {
          "base_uri": "https://localhost:8080/"
        },
        "outputId": "9abe48f5-0716-46b0-8247-52e41100e978"
      },
      "execution_count": null,
      "outputs": [
        {
          "output_type": "stream",
          "name": "stdout",
          "text": [
            "Counter  {'a': 400, 'b': 400, 'c': 400}\n"
          ]
        }
      ]
    },
    {
      "cell_type": "code",
      "source": [
        "#57)Write a Python program to find the highest 3 values in a dictionary\n",
        "\n",
        "my_dict={\"a\":500,\"b\":400,\"c\":300,\"d\":200}\n",
        "\n",
        "highest_value=sorted(my_dict.values(),reverse=True)[:3]\n",
        "print(highest_value)\n"
      ],
      "metadata": {
        "id": "Ua6gJ2BiqI8w",
        "colab": {
          "base_uri": "https://localhost:8080/"
        },
        "outputId": "8495effd-21d1-48db-d361-db499c4cb8dc"
      },
      "execution_count": null,
      "outputs": [
        {
          "output_type": "stream",
          "name": "stdout",
          "text": [
            "[500, 400, 300]\n"
          ]
        }
      ]
    },
    {
      "cell_type": "code",
      "source": [
        "#58)Write a Python program to combine values in python list of dictionaries.\n",
        "#Sample data: [{'item': 'item1', 'amount': 400}, {'item': 'item2', 'amount':300}, o {'item': 'item1', 'amount': 750}]\n",
        "#Expected Output:\n",
        "#• Counter ({'item1': 1150, 'item2': 300})\n",
        "\n",
        "from collections import Counter\n",
        "\n",
        "# Sample data\n",
        "data = [\n",
        "    {'item': 'item1', 'amount': 400},\n",
        "    {'item': 'item2', 'amount': 300},\n",
        "    {'item': 'item1', 'amount': 750}\n",
        "]\n",
        "\n",
        "result = Counter()\n",
        "\n",
        "for d in data:\n",
        "    result[d['item']] += d['amount']\n",
        "\n",
        "print(result)\n",
        "\n",
        "\n",
        "\n",
        "\n",
        "\n"
      ],
      "metadata": {
        "id": "eaSSIu93qL42",
        "colab": {
          "base_uri": "https://localhost:8080/"
        },
        "outputId": "af17beb6-4953-4d8d-8f93-f48a0482e711"
      },
      "execution_count": 22,
      "outputs": [
        {
          "output_type": "stream",
          "name": "stdout",
          "text": [
            "Counter({'item1': 1150, 'item2': 300})\n"
          ]
        }
      ]
    },
    {
      "cell_type": "code",
      "source": [
        "#59)Write a Python program to create a dictionary from a string. Note: Track the count of the letters from the string\n",
        "\n",
        "string=\"helloworld\"\n",
        "letter_count={}\n",
        "\n",
        "for letter in string:\n",
        "  if letter in letter_count:\n",
        "    letter_count[letter]+=1\n",
        "  else:\n",
        "    letter_count[letter]=1\n",
        "    print(letter_count)\n",
        "\n"
      ],
      "metadata": {
        "id": "8Gkzr44HqS20",
        "colab": {
          "base_uri": "https://localhost:8080/"
        },
        "outputId": "12240290-d7de-4efd-9115-a376c5d5bd38"
      },
      "execution_count": null,
      "outputs": [
        {
          "output_type": "stream",
          "name": "stdout",
          "text": [
            "{'h': 1}\n",
            "{'h': 1, 'e': 1}\n",
            "{'h': 1, 'e': 1, 'l': 1}\n",
            "{'h': 1, 'e': 1, 'l': 2, 'o': 1}\n",
            "{'h': 1, 'e': 1, 'l': 2, 'o': 1, 'w': 1}\n",
            "{'h': 1, 'e': 1, 'l': 2, 'o': 2, 'w': 1, 'r': 1}\n",
            "{'h': 1, 'e': 1, 'l': 3, 'o': 2, 'w': 1, 'r': 1, 'd': 1}\n"
          ]
        }
      ]
    },
    {
      "cell_type": "code",
      "source": [
        "#60)Sample string:\n",
        " #'w3resource' Expected output:\n",
        "#• {'3': 1,’s’: 1, 'r': 2, 'u': 1, 'w': 1, 'c': 1, 'e': 2, 'o': 1}\n",
        "\n",
        "string=\"w3resource\"\n",
        "letter_count={}\n",
        "\n",
        "for letter in string:\n",
        "  if letter in letter_count:\n",
        "    letter_count[letter]+=1\n",
        "  else:\n",
        "    letter_count[letter]=1\n",
        "    print(letter_count)"
      ],
      "metadata": {
        "id": "CpGMvuS_qWcz",
        "colab": {
          "base_uri": "https://localhost:8080/"
        },
        "outputId": "ad4f7bcf-60ba-463e-e15f-b3c536888737"
      },
      "execution_count": null,
      "outputs": [
        {
          "output_type": "stream",
          "name": "stdout",
          "text": [
            "{'w': 1}\n",
            "{'w': 1, '3': 1}\n",
            "{'w': 1, '3': 1, 'r': 1}\n",
            "{'w': 1, '3': 1, 'r': 1, 'e': 1}\n",
            "{'w': 1, '3': 1, 'r': 1, 'e': 1, 's': 1}\n",
            "{'w': 1, '3': 1, 'r': 1, 'e': 1, 's': 1, 'o': 1}\n",
            "{'w': 1, '3': 1, 'r': 1, 'e': 1, 's': 1, 'o': 1, 'u': 1}\n",
            "{'w': 1, '3': 1, 'r': 2, 'e': 1, 's': 1, 'o': 1, 'u': 1, 'c': 1}\n"
          ]
        }
      ]
    },
    {
      "cell_type": "code",
      "source": [
        "#61)Write a Python function to calculate the factorial of a number (a nonnegative integer)\n",
        "\n",
        "def factorial(n):\n",
        "  if n==0 or n==1:\n",
        "    return 1\n",
        "  else:\n",
        "    return n*factorial(n-1)\n",
        "\n",
        "num=int(input(\"enter a nonnegative integer \"))\n",
        "\n",
        "if num<0:\n",
        "  print(\"enter a nonnegative integer\")\n",
        "else:\n",
        "  print(f\"the factorial of {num} is {factorial(num)}\")\n",
        "\n",
        "\n",
        "\n",
        "\n"
      ],
      "metadata": {
        "id": "_c-tq9y7qaxa",
        "colab": {
          "base_uri": "https://localhost:8080/"
        },
        "outputId": "34359f30-f1a1-4499-9890-ae87f2dbfc85"
      },
      "execution_count": null,
      "outputs": [
        {
          "output_type": "stream",
          "name": "stdout",
          "text": [
            "enter a nonnegative integer 5\n",
            "the factorial of 5 is 120\n"
          ]
        }
      ]
    },
    {
      "cell_type": "code",
      "source": [
        "#62)Write a Python function to check whether a number is in a given range\n",
        "\n",
        "def in_range(number,start,end):\n",
        "  return start<=number<=end\n",
        "\n",
        "number=6\n",
        "start=2\n",
        "end=10\n",
        "print(in_range(number,start,end))\n",
        "\n",
        "\n"
      ],
      "metadata": {
        "id": "4bl_S3OE0lyN",
        "colab": {
          "base_uri": "https://localhost:8080/"
        },
        "outputId": "04943072-2f00-4733-bd16-b6b9f642d0cd"
      },
      "execution_count": null,
      "outputs": [
        {
          "output_type": "stream",
          "name": "stdout",
          "text": [
            "True\n"
          ]
        }
      ]
    },
    {
      "cell_type": "code",
      "source": [
        "#63)Write a Python function to check whether a number is perfect or not.\n",
        "#A--->\n",
        "\n",
        "def perfect_number(n):\n",
        "  divisor_sum=0\n",
        "  for i in range(1,n):\n",
        "    if n %1 ==0:\n",
        "      divisor_sum +=1\n",
        "    return divisor_sum==n\n",
        "\n",
        "number = 5\n",
        "\n",
        "if perfect_number(number):\n",
        "    print(\"number is perfect:\", number)\n",
        "else:\n",
        "    print(\"number is not perfect:\", number)"
      ],
      "metadata": {
        "id": "SLqUiWFc0ogh",
        "colab": {
          "base_uri": "https://localhost:8080/"
        },
        "outputId": "e4a3ec05-f47a-4b76-ad3d-d4c3a5207c20"
      },
      "execution_count": null,
      "outputs": [
        {
          "output_type": "stream",
          "name": "stdout",
          "text": [
            "number is not perfect: 5\n"
          ]
        }
      ]
    },
    {
      "cell_type": "code",
      "source": [
        "#64)Write a Python function that checks whether a passed string is palindrome or not\n",
        "\n",
        "x=str(input(\"check if string is palindrome\"))\n",
        "string1=\"palindrome\"\n",
        "\n",
        "if sorted(string1):\n",
        "  print(\"palindrome\")\n",
        "else:\n",
        "  print(\"not palindrome\")\n"
      ],
      "metadata": {
        "id": "p3AEOhfG0rEK",
        "colab": {
          "base_uri": "https://localhost:8080/"
        },
        "outputId": "15310503-1b17-4758-d254-5c5d0c678fba"
      },
      "execution_count": null,
      "outputs": [
        {
          "output_type": "stream",
          "name": "stdout",
          "text": [
            "check if string is palindrome120\n",
            "palindrome\n"
          ]
        }
      ]
    },
    {
      "cell_type": "markdown",
      "source": [
        "#65)How Many Basic Types of Functions Are Available in Python?\n",
        "A--> There are two types basic types of functions\n",
        "1-Buit-in function=(print(),len(),max(),min(),sum(),type())\n",
        "2-user-defined function=(def)"
      ],
      "metadata": {
        "id": "ZjjFCmN_RypG"
      }
    },
    {
      "cell_type": "code",
      "source": [
        "#66)How can you pick a random item from a list or tuple?\n",
        "\n",
        "my_list=[1,2,3,4,5]\n",
        "my_tuple=(\"apple\",\"banana\",\"cherry\",\"mango\",\"pineapple\")\n",
        "\n",
        "import random\n",
        "\n",
        "random_list=random.choice(my_list)\n",
        "random_tuple=random.choice(my_tuple)\n",
        "\n",
        "print(f\"random item from list:{random_list}\")\n",
        "print(f\"random item from tuple:{random_tuple}\")\n"
      ],
      "metadata": {
        "id": "9q6wQqDC0xRj",
        "colab": {
          "base_uri": "https://localhost:8080/"
        },
        "outputId": "d927eaa6-04ad-471f-bb27-77de1c166e82"
      },
      "execution_count": null,
      "outputs": [
        {
          "output_type": "stream",
          "name": "stdout",
          "text": [
            "random item from list:3\n",
            "random item from tuple:pineapple\n"
          ]
        }
      ]
    },
    {
      "cell_type": "code",
      "source": [
        "#67)How can you pick a random item from a range?\n",
        "\n",
        "import random\n",
        "\n",
        "my_range=range(1,10)\n",
        "\n",
        "random_item=random.choice(my_range)\n",
        "print(\"random item from range\", random_item)"
      ],
      "metadata": {
        "id": "juitwev100kh",
        "colab": {
          "base_uri": "https://localhost:8080/"
        },
        "outputId": "c663cbd5-1849-4631-a289-b9ae80872ee0"
      },
      "execution_count": null,
      "outputs": [
        {
          "output_type": "stream",
          "name": "stdout",
          "text": [
            "random item from range 6\n"
          ]
        }
      ]
    },
    {
      "cell_type": "code",
      "source": [
        "#68)How can you get a random number in python?\n",
        "\n",
        "import random\n",
        "\n",
        "random_number=random.randint(1,100) #to get a random number use randint\n",
        "print(\"random number\", random_number)"
      ],
      "metadata": {
        "id": "uD8vabxf03IH",
        "colab": {
          "base_uri": "https://localhost:8080/"
        },
        "outputId": "e838e94d-7681-46ff-afa0-58fcb05c2949"
      },
      "execution_count": null,
      "outputs": [
        {
          "output_type": "stream",
          "name": "stdout",
          "text": [
            "random number 50\n"
          ]
        }
      ]
    },
    {
      "cell_type": "code",
      "source": [
        "#69)How will you set the starting value in generating random numbers?\n",
        "\n",
        "import random\n",
        "\n",
        "random.seed(50)\n",
        "\n",
        "random_number=random.randint(1,100)\n",
        "print(\"random number\", random_number)\n",
        "\n"
      ],
      "metadata": {
        "id": "hANASR_q08SI",
        "colab": {
          "base_uri": "https://localhost:8080/"
        },
        "outputId": "29c9724e-0fa0-4833-e037-84b7698bdf26"
      },
      "execution_count": null,
      "outputs": [
        {
          "output_type": "stream",
          "name": "stdout",
          "text": [
            "random number 64\n"
          ]
        }
      ]
    },
    {
      "cell_type": "code",
      "source": [
        "#70) How will you randomize the items of a list in place?\n",
        "\n",
        "import random\n",
        "\n",
        "my_list=[1,2,3,4,5,6]\n",
        "\n",
        "random.shuffle(my_list)\n",
        "print(\"randomized list\", my_list)"
      ],
      "metadata": {
        "id": "WQCQaNNi0-1u",
        "colab": {
          "base_uri": "https://localhost:8080/"
        },
        "outputId": "60e97b94-f44e-415f-a260-4315f8bdccd3"
      },
      "execution_count": null,
      "outputs": [
        {
          "output_type": "stream",
          "name": "stdout",
          "text": [
            "randomized list [1, 4, 5, 2, 6, 3]\n"
          ]
        }
      ]
    },
    {
      "cell_type": "code",
      "source": [
        "#71)What is File function in python? What are keywords to create and write file.\n",
        "#A---> In python, working with files means we can open,read,write and close files from programs.\n",
        "#when we use open() it can pass modes to tell python what to can to do.\n",
        "\n",
        "#create or overwrite a file\n",
        "file=open(\"newfile.txt\",\"w\")                  #\"w\" means Write - Creates a new file or overwrites if file already exists\n",
        "file.write(\"hello,world\")\n",
        "file.close"
      ],
      "metadata": {
        "id": "hppcMr1Y1BYp",
        "colab": {
          "base_uri": "https://localhost:8080/"
        },
        "outputId": "a161c560-b45e-44e5-a9cd-5fc7f29a7bb0"
      },
      "execution_count": null,
      "outputs": [
        {
          "output_type": "execute_result",
          "data": {
            "text/plain": [
              "<function TextIOWrapper.close()>"
            ]
          },
          "metadata": {},
          "execution_count": 1
        }
      ]
    },
    {
      "cell_type": "code",
      "source": [
        "#72)Write a Python program to read an entire text file.\n",
        "#A-->\n",
        "\n",
        "#open file in read mode\n",
        "file=open(\"newfile.txt\", \"r\")\n",
        "\n",
        "#read the entire content\n",
        "content=file.read()\n",
        "\n",
        "#print content\n",
        "print(content)\n",
        "\n",
        "#close the file\n",
        "file.close()\n",
        "\n"
      ],
      "metadata": {
        "id": "Qh1_kngY1Ecc",
        "colab": {
          "base_uri": "https://localhost:8080/"
        },
        "outputId": "559b6303-7c41-4fc6-89ea-41a1068a9041"
      },
      "execution_count": null,
      "outputs": [
        {
          "output_type": "stream",
          "name": "stdout",
          "text": [
            "\n"
          ]
        }
      ]
    },
    {
      "cell_type": "code",
      "source": [
        "#73)Write a Python program to append text to a file and display the text.\n",
        "#A--->\n",
        "\n",
        "#To append text, use mode 'a' (append mode).\n",
        "\n",
        "file=open(\"newfile.txt\", \"a\")\n",
        "file.write(\"\\nthis is new text added\")   #\\n means new line\n",
        "file.close\n",
        "\n",
        "#open the file in read mode and display text\n",
        "\n",
        "file=open(\"newfile.txt\", \"r\")\n",
        "content=file.read()\n",
        "print(content)\n",
        "file.close\n",
        "\n",
        "\n"
      ],
      "metadata": {
        "id": "tmByl_ZY1GiL",
        "colab": {
          "base_uri": "https://localhost:8080/"
        },
        "outputId": "25566a30-9996-47ef-8fcf-90ebf6eb700b"
      },
      "execution_count": null,
      "outputs": [
        {
          "output_type": "stream",
          "name": "stdout",
          "text": [
            "\n",
            "this is new text added\n"
          ]
        },
        {
          "output_type": "execute_result",
          "data": {
            "text/plain": [
              "<function TextIOWrapper.close()>"
            ]
          },
          "metadata": {},
          "execution_count": 6
        }
      ]
    },
    {
      "cell_type": "code",
      "source": [
        "#74)Write a Python program to read first n lines of a file\n",
        "#A--->\n",
        "\n",
        "n=int(input(\"enter number of lines to read \"))\n",
        "\n",
        "#open the file in read mode\n",
        "\n",
        "with open(\"newfile.txt\", \"r\") as file:\n",
        "  for i in range(n):\n",
        "    line=file.readline()\n",
        "    print(line.strip())\n"
      ],
      "metadata": {
        "id": "75j3Cir51JKF",
        "colab": {
          "base_uri": "https://localhost:8080/"
        },
        "outputId": "5f84f026-e09e-4b5d-badd-1cab00cf9de1"
      },
      "execution_count": null,
      "outputs": [
        {
          "output_type": "stream",
          "name": "stdout",
          "text": [
            "enter number of lines to read 1\n",
            "\n"
          ]
        }
      ]
    },
    {
      "cell_type": "code",
      "source": [
        "#75)Write a Python program to read last n lines of a file.\n",
        "#A--->\n",
        "\n",
        "n=int(input(\"enter number of last lines to read \"))\n",
        "\n",
        "#open file\n",
        "\n",
        "file=open(\"newfile.txt\", \"r\")\n",
        "\n",
        "#read all lines\n",
        "lines=file.readlines()\n",
        "\n",
        "#close file\n",
        "file.close()\n",
        "\n",
        "#print last n lines\n",
        "for line in lines[-n:]:\n",
        "  print(line.strip())\n",
        "\n",
        "file.close()\n",
        "\n"
      ],
      "metadata": {
        "id": "ghts3ZRP1LYH",
        "colab": {
          "base_uri": "https://localhost:8080/"
        },
        "outputId": "f83a78b9-2a1a-4c4d-eeaa-1b859cf11c43"
      },
      "execution_count": null,
      "outputs": [
        {
          "output_type": "stream",
          "name": "stdout",
          "text": [
            "enter number of last lines to read 2\n",
            "this is new text added\n",
            "this is new text added\n"
          ]
        }
      ]
    },
    {
      "cell_type": "code",
      "source": [
        "#76)Write a Python program to read a file line by line and store it into a list\n",
        "#A--->\n",
        "\n",
        "file=open(\"newfile.txt\", \"r\")\n",
        "\n",
        "lines=file.readlines()\n",
        "\n",
        "file.close()\n",
        "\n",
        "my_list=[line.strip() for line in lines]\n",
        "\n",
        "print(my_list)\n"
      ],
      "metadata": {
        "id": "lB1MQLBD1Oez",
        "colab": {
          "base_uri": "https://localhost:8080/"
        },
        "outputId": "dcea6cc8-813a-4d4e-9699-b1399feb8fca"
      },
      "execution_count": null,
      "outputs": [
        {
          "output_type": "stream",
          "name": "stdout",
          "text": [
            "['', 'this is new text added', 'this is new text added']\n"
          ]
        }
      ]
    },
    {
      "cell_type": "code",
      "source": [
        "#77)Write a Python program to read a file line by line store it into a variable.\n",
        "#A--->\n",
        "\n",
        "file=open(\"newfile.txt\", \"r\")\n",
        "\n",
        "lines=file.readlines()\n",
        "\n",
        "file.close()\n",
        "\n",
        "my_variable=\"\".join(line.strip() for line in lines)\n",
        "\n",
        "print(my_variable)\n"
      ],
      "metadata": {
        "id": "YEo8O74s1SN2"
      },
      "execution_count": null,
      "outputs": []
    },
    {
      "cell_type": "code",
      "source": [
        "#78)Write a python program to find the longest words.\n",
        "#A--->\n",
        "\n",
        "text=\"I love DA\"\n",
        "\n",
        "word=text.split()\n",
        "\n",
        "longest_word=max(word,key=len)\n",
        "\n",
        "print(\"longest word\", longest_word)"
      ],
      "metadata": {
        "id": "sIWL9Bn11Uma",
        "colab": {
          "base_uri": "https://localhost:8080/"
        },
        "outputId": "125bc7fc-b56e-42b3-b9a3-022b23b2182c"
      },
      "execution_count": null,
      "outputs": [
        {
          "output_type": "stream",
          "name": "stdout",
          "text": [
            "longest word love\n"
          ]
        }
      ]
    },
    {
      "cell_type": "code",
      "source": [
        "#79)Write a Python program to count the number of lines in a text file.\n",
        "#A--->\n",
        "\n",
        "with open(\"newfile.txt\",\"r\") as file:\n",
        "  line_count=sum(1 for line in file)\n",
        "  print(\"the number of lines in the files \", line_count)\n",
        "\n",
        "\n"
      ],
      "metadata": {
        "id": "PdKLKnJI1XNQ",
        "colab": {
          "base_uri": "https://localhost:8080/"
        },
        "outputId": "cfa6472f-5877-4ff0-9972-bcc71bdaff8a"
      },
      "execution_count": null,
      "outputs": [
        {
          "output_type": "stream",
          "name": "stdout",
          "text": [
            "the number of lines in the files  3\n"
          ]
        }
      ]
    },
    {
      "cell_type": "code",
      "source": [
        "#80)Write a Python program to count the frequency of words in a file.\n",
        "#A--->\n",
        "\n",
        "from collections import Counter\n",
        "\n",
        "with open(\"newfile.txt\", \"r\") as file:\n",
        "  words=file.read().split()\n",
        "  word_count=Counter(words)\n",
        "  print(word_count)"
      ],
      "metadata": {
        "id": "NSrwIjOq1Z4t",
        "colab": {
          "base_uri": "https://localhost:8080/"
        },
        "outputId": "0d8efc2b-e6b0-45b4-fc01-3b1d9b5d3d5f"
      },
      "execution_count": null,
      "outputs": [
        {
          "output_type": "stream",
          "name": "stdout",
          "text": [
            "Counter({'this': 2, 'is': 2, 'new': 2, 'text': 2, 'added': 2})\n"
          ]
        }
      ]
    },
    {
      "cell_type": "code",
      "source": [
        "#81)Write a Python program to write a list to a file.\n",
        "#A--->\n",
        "\n",
        "my_list=[1,2,3,4,5]\n",
        "\n",
        "with open(\"newfile.txt\", \"w\") as file:\n",
        "  for item in my_list:\n",
        "    file.write(str(item)+\"\\n\")\n",
        "    print(my_list)\n",
        "\n"
      ],
      "metadata": {
        "id": "ZOjTTEOC1ccQ",
        "colab": {
          "base_uri": "https://localhost:8080/"
        },
        "outputId": "4c94d044-21c2-4c5e-e7ee-e09213523817"
      },
      "execution_count": null,
      "outputs": [
        {
          "output_type": "stream",
          "name": "stdout",
          "text": [
            "[1, 2, 3, 4, 5]\n",
            "[1, 2, 3, 4, 5]\n",
            "[1, 2, 3, 4, 5]\n",
            "[1, 2, 3, 4, 5]\n",
            "[1, 2, 3, 4, 5]\n"
          ]
        }
      ]
    },
    {
      "cell_type": "code",
      "source": [
        "#82)Write a Python program to copy the contents of a file to another file.\n",
        "#A--->\n",
        "\n",
        "with open(\"newfile.txt\", \"r\") as source_file:\n",
        "  content=source_file.read()\n",
        "\n",
        "with open(\"newfile.txt\", \"w\") as destination_file:\n",
        "  destination_file.write(content)\n",
        "  print(\"Contents copied to destination.txt. The content is:\")\n",
        "print(content)\n"
      ],
      "metadata": {
        "id": "QCm78EBt1gYM",
        "colab": {
          "base_uri": "https://localhost:8080/"
        },
        "outputId": "7a367957-4c57-4403-b8b1-ebb1f1fdeb00"
      },
      "execution_count": null,
      "outputs": [
        {
          "output_type": "stream",
          "name": "stdout",
          "text": [
            "Contents copied to destination.txt. The content is:\n",
            "1\n",
            "2\n",
            "3\n",
            "4\n",
            "5\n",
            "\n"
          ]
        }
      ]
    },
    {
      "cell_type": "markdown",
      "source": [
        "#83)Explain Exception handling? What is an Error in Python?\n",
        "#A---> Exception handling in python refers to the process of responding to the occurence of exceptions during program execution.Instead of letting a program crash when it encounters an error it can be catch an error,handle it and keep program running smoothly.In python an error refers to an issue or problem our program from running correctly."
      ],
      "metadata": {
        "id": "f0MifchdIJ-m"
      }
    },
    {
      "cell_type": "markdown",
      "source": [
        "#84)How many except statements can a try-except block have? Name Some built-in exception classes:\n",
        "#A---> In Python, a try-except block can have multiple except statements, each handling a specific type of exception.It allows to handle different exception in different ways.\n",
        "-->Some built-in exception classes:\n",
        "1.ZeroDivisorError\n",
        "2.FileNOtFoundError\n",
        "3.IndexError\n",
        "4.TypeError\n",
        "5.ValueEror\n",
        "6.KeyError\n",
        "7.AttributeEror\n",
        "8.ImportError\n",
        "9.NameError\n",
        "10.MemoryError\n"
      ],
      "metadata": {
        "id": "QJYButAxJTo-"
      }
    },
    {
      "cell_type": "markdown",
      "source": [
        "#85)When will the else part of try-except-else be executed?\n",
        "#A--->  The else partb of try-except-else block in python is exceutedonly when no exception occurs in the try block.The else block is executed only if try block runs succesfully without the exception.If no exception occurs, in else block will execute after the try block finishes.\n",
        "\n"
      ],
      "metadata": {
        "id": "FRt1ECziK8gp"
      }
    },
    {
      "cell_type": "markdown",
      "source": [
        "#86)Can one block of except statements handle multiple exception?\n",
        "A--->Yes, a single except block can handle multiple exception in Python.It can specify multiple exception types inside a tuple in one except statement.\n"
      ],
      "metadata": {
        "id": "oGUGTUK3LnXL"
      }
    },
    {
      "cell_type": "markdown",
      "source": [
        "87)When is the finally block executed?\n",
        "A---> The finally block in Python is always executed, no matter what after the try and except block have completed. The finally block is excecuted regardless of whether an exception was raised or not."
      ],
      "metadata": {
        "id": "H0-bIA3MMXkn"
      }
    },
    {
      "cell_type": "markdown",
      "source": [
        "#88)What happens when „1‟== 1 is executed?\n",
        "A---> \"1\"==1 It will show an typeerror because it is trying to compare two objects of different types a string(\"1) and an integer(1). In python a string and an integer are not directly comparable so this comparison will return true or false but intead it will result in an error."
      ],
      "metadata": {
        "id": "HBX-ppZkNQ12"
      }
    },
    {
      "cell_type": "code",
      "source": [
        "#89)How Do You Handle Exceptions with Try/Except/Finally in Python? Explain with coding snippets.\n",
        "#A--> These blocks help to manage errors that may occur during progra, execution and ensure that cleanup actions are always performmed.\n",
        "\n",
        "try:\n",
        "  x=10/0     #it will raise ZeroDivisorError\n",
        "except ZeroDivisionError:\n",
        "  print(\"cannot divided by zero!\")\n",
        "finally:\n",
        "  print(\"this will always be exceuted \")\n",
        "\n"
      ],
      "metadata": {
        "colab": {
          "base_uri": "https://localhost:8080/"
        },
        "id": "pSj8ABIyOAIb",
        "outputId": "d43ab3b4-1558-40fc-fa70-fde0d0c703f7"
      },
      "execution_count": null,
      "outputs": [
        {
          "output_type": "stream",
          "name": "stdout",
          "text": [
            "cannot divided by zero!\n",
            "this will always be exceuted \n"
          ]
        }
      ]
    },
    {
      "cell_type": "code",
      "source": [
        "#90)Write python program that user to enter only odd numbers, else will raise an exception.\n",
        "#A--->\n",
        "\n",
        "def odd_number():\n",
        "    try:\n",
        "        # Ask the user to input a number\n",
        "        num = int(input(\"Enter an odd number: \"))\n",
        "\n",
        "\n",
        "        if num % 2 == 0:\n",
        "            raise ValueError(\"That's an even number! Please enter an odd number.\")\n",
        "\n",
        "        print(f\"Thank you! {num} is an odd number.\")\n",
        "\n",
        "    except ValueError as e:\n",
        "        print(e)\n",
        "        odd_number()  # Ask again if an even number or invalid input is entered\n",
        "\n",
        "# Start the program\n",
        "odd_number()\n",
        "\n",
        "\n",
        "\n"
      ],
      "metadata": {
        "id": "nxs-bTdK2D67",
        "colab": {
          "base_uri": "https://localhost:8080/"
        },
        "outputId": "9cadfd8d-0c8d-463c-c3ad-aa4f56e1de5d"
      },
      "execution_count": null,
      "outputs": [
        {
          "output_type": "stream",
          "name": "stdout",
          "text": [
            "Enter an odd number: 5\n",
            "Thank you! 5 is an odd number.\n"
          ]
        }
      ]
    },
    {
      "cell_type": "code",
      "source": [],
      "metadata": {
        "id": "yzWJskQcPt98"
      },
      "execution_count": null,
      "outputs": []
    }
  ]
}